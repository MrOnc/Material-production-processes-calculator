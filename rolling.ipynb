{
 "cells": [
  {
   "cell_type": "code",
   "execution_count": 1,
   "metadata": {},
   "outputs": [],
   "source": [
    "import math\n",
    "\n",
    "\n",
    "def parse_input(input_str):\n",
    "    return None if input_str.lower() == \"boş\" else float(input_str)\n",
    "mukavemet_katsayisi = parse_input(input(\"Mukavemet Katsayısını girin (boş bırakmak için 'boş' yazın): \"))\n",
    "peklesme_usteli = parse_input(input(\"Pekleşme Üstelini girin (boş bırakmak için 'boş' yazın): \"))\n",
    "levha_ilk_yukseklik = parse_input(input(\"Levhanın ilk yüksekliğini girin (boş bırakmak için 'boş' yazın): \"))\n",
    "levha_son_yukseklik = parse_input(input(\"Levhanın son yüksekliğini girin (boş bırakmak için 'boş' yazın): \"))\n",
    "hadde_yaricap = parse_input(input(\"Hadde yarıçapını girin (boş bırakmak için 'boş' yazın): \"))\n",
    "genislik = parse_input(input(\"Genişliği girin (boş bırakmak için 'boş' yazın): \"))\n",
    "deformasyon_gerilmesi = parse_input(input(\"Deformasyon Gerilmesini girin (boş bırakmak için 'boş' yazın): \"))\n",
    "ortalama_akma_gerilmesi = parse_input(input(\"Ortalama Akma Gerilmesini girin (boş bırakmak için 'boş' yazın): \"))\n",
    "temas_uzunlugu = parse_input(input(\"Temas Uzunluğunu girin (boş bırakmak için 'boş' yazın): \"))\n",
    "hadde_kuvveti = parse_input(input(\"Hadde Kuvvetini girin (boş bırakmak için 'boş' yazın): \"))\n",
    "if deformasyon_gerilmesi is None and levha_ilk_yukseklik is not None and levha_son_yukseklik is not None:\n",
    "    deformasyon_gerilmesi = round(math.log(levha_ilk_yukseklik / levha_son_yukseklik), 2)\n",
    "if ortalama_akma_gerilmesi is None and mukavemet_katsayisi is not None and deformasyon_gerilmesi is not None and peklesme_usteli is not None:\n",
    "    ortalama_akma_gerilmesi = round((mukavemet_katsayisi * (deformasyon_gerilmesi ** peklesme_usteli)) / (1 + peklesme_usteli), 2)\n",
    "if temas_uzunlugu is None:\n",
    "    if hadde_yaricap is not None and levha_ilk_yukseklik is not None and levha_son_yukseklik is not None:\n",
    "        temas_uzunlugu = round((hadde_yaricap * (levha_ilk_yukseklik - levha_son_yukseklik)) ** 0.5, 2)\n",
    "    elif ortalama_akma_gerilmesi is not None and genislik is not None and hadde_kuvveti is not None:\n",
    "        temas_uzunlugu = round(hadde_kuvveti / (ortalama_akma_gerilmesi * genislik), 2)\n",
    "if hadde_yaricap is None and temas_uzunlugu is not None and levha_ilk_yukseklik is not None and levha_son_yukseklik is not None:\n",
    "    hadde_yaricap = round((temas_uzunlugu ** 2) / (levha_ilk_yukseklik - levha_son_yukseklik), 2)\n",
    "if hadde_kuvveti is None and ortalama_akma_gerilmesi is not None and genislik is not None and temas_uzunlugu is not None:\n",
    "    hadde_kuvveti = round(ortalama_akma_gerilmesi * genislik * temas_uzunlugu, 2)\n",
    "if deformasyon_gerilmesi is not None:\n",
    "    print(f\"\\nDeformasyon Gerilmesi: {deformasyon_gerilmesi}\")\n",
    "if ortalama_akma_gerilmesi is not None:\n",
    "    print(f\"Ortalama Akma Gerilmesi: {ortalama_akma_gerilmesi}\")\n",
    "if temas_uzunlugu is not None:\n",
    "    print(f\"Temas Uzunluğu: {temas_uzunlugu}\")\n",
    "if hadde_kuvveti is not None:\n",
    "    print(f\"Hadde Kuvveti: {hadde_kuvveti}\")\n",
    "if hadde_yaricap is not None:\n",
    "    print(f\"Hadde Yarıçapı: {hadde_yaricap}\")\n",
    "if all(value is None for value in [deformasyon_gerilmesi, ortalama_akma_gerilmesi, temas_uzunlugu, hadde_kuvveti, hadde_yaricap]):\n",
    "    print(\"Yeterli girdi sağlanmadı. Lütfen daha fazla bilgi girin.\")\n"
   ]
  }
 ],
 "metadata": {
  "kernelspec": {
   "display_name": "Python 3",
   "language": "python",
   "name": "python3"
  },
  "language_info": {
   "codemirror_mode": {
    "name": "ipython",
    "version": 3
   },
   "file_extension": ".py",
   "mimetype": "text/x-python",
   "name": "python",
   "nbconvert_exporter": "python",
   "pygments_lexer": "ipython3",
   "version": "3.8.10"
  },
  "orig_nbformat": 4
 },
 "nbformat": 4,
 "nbformat_minor": 2
}
