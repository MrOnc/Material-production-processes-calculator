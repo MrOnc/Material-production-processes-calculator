{
 "cells": [
  {
   "cell_type": "code",
   "execution_count": 12,
   "metadata": {},
   "outputs": [
    {
     "name": "stdout",
     "output_type": "stream",
     "text": [
      "\n",
      "BA (Bükülen bölgenin işlem öncesi olması gereken boyu): 28.75\n",
      "Taslağın Başlangıç Boyu: 228.75\n"
     ]
    }
   ],
   "source": [
    "import math\n",
    "\n",
    "\n",
    "def parse_input(input_str):\n",
    "    return None if input_str.lower() == \"boş\" else float(input_str)\n",
    "A = parse_input(input(\"Bükme açısını girin (boş bırakmak için 'boş' yazın): \"))\n",
    "R = parse_input(input(\"Bükme yarıçapını girin (boş bırakmak için 'boş' yazın): \"))\n",
    "t = parse_input(input(\"Sac kalınlığını girin (boş bırakmak için 'boş' yazın): \"))\n",
    "bukulen_bolgenin_sagi = parse_input(input(\"Bükülen bölgenin sağı (boş bırakmak için 'boş' yazın): \"))\n",
    "bukulen_bolgenin_solu = parse_input(input(\"Bükülen bölgenin solu (boş bırakmak için 'boş' yazın): \"))\n",
    "Kba = None\n",
    "if R is not None and t is not None:\n",
    "    if R < 2 * t:\n",
    "        Kba = 0.33\n",
    "    else:\n",
    "        Kba = 0.50\n",
    "BA = None\n",
    "if A is not None and R is not None and Kba is not None and t is not None:\n",
    "    BA = round(2 * math.pi * (A / 360) * (R + Kba * t), 2)\n",
    "if BA is not None:\n",
    "    print(f\"\\nBA (Bükülen bölgenin işlem öncesi olması gereken boyu): {BA}\")\n",
    "if BA is not None and bukulen_bolgenin_sagi is not None and bukulen_bolgenin_solu is not None:\n",
    "    taslagin_baslangic_boyu = bukulen_bolgenin_sagi + bukulen_bolgenin_solu + BA\n",
    "    print(f\"Taslağın Başlangıç Boyu: {taslagin_baslangic_boyu}\")\n"
   ]
  }
 ],
 "metadata": {
  "kernelspec": {
   "display_name": "Python 3",
   "language": "python",
   "name": "python3"
  },
  "language_info": {
   "codemirror_mode": {
    "name": "ipython",
    "version": 3
   },
   "file_extension": ".py",
   "mimetype": "text/x-python",
   "name": "python",
   "nbconvert_exporter": "python",
   "pygments_lexer": "ipython3",
   "version": "3.8.10"
  },
  "orig_nbformat": 4
 },
 "nbformat": 4,
 "nbformat_minor": 2
}
