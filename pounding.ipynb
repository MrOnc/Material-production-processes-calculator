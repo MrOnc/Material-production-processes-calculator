{
 "cells": [
  {
   "cell_type": "code",
   "execution_count": 3,
   "metadata": {},
   "outputs": [
    {
     "name": "stdout",
     "output_type": "stream",
     "text": [
      "\n",
      "Deformasyon Gerilmesi: 1.1\n",
      "Akma Gerilmesi: 87.47\n",
      "Gerilme: 105.65\n",
      "Dövme Kuvveti: 398267.75\n",
      "Levhanın son yarı çapı: 34.64\n",
      "Yüzey Alanı: 3769.69\n"
     ]
    }
   ],
   "source": [
    "import math\n",
    "\n",
    "\n",
    "def parse_input(input_str):\n",
    "    return None if input_str.lower() == \"boş\" else float(input_str)\n",
    "surtunme = input(\"Sürtünme var mı? (var/yok): \").lower()\n",
    "mukavemet_katsayisi = parse_input(input(\"Mukavemet Katsayısını girin (boş bırakmak için 'boş' yazın): \"))\n",
    "peklesme_usteli = parse_input(input(\"Pekleşme Üstelini girin (boş bırakmak için 'boş' yazın): \"))\n",
    "levha_ilk_genislik = parse_input(input(\"Levhanın ilk genişliğini girin (boş bırakmak için 'boş' yazın): \"))\n",
    "levha_son_genislik = parse_input(input(\"Levhanın son genişliğini girin (boş bırakmak için 'boş' yazın): \"))\n",
    "levha_ilk_yaricap = parse_input(input(\"Levhanın ilk yarıçapını girin (boş bırakmak için 'boş' yazın): \"))\n",
    "if levha_ilk_genislik is not None and levha_son_genislik is not None:\n",
    "    deformasyon_gerilmesi = round(math.log(levha_ilk_genislik / levha_son_genislik), 2)\n",
    "else:\n",
    "    deformasyon_gerilmesi = None\n",
    "if mukavemet_katsayisi is not None and deformasyon_gerilmesi is not None and peklesme_usteli is not None:\n",
    "    akma_gerilmesi = round(mukavemet_katsayisi * (deformasyon_gerilmesi ** peklesme_usteli), 2)\n",
    "else:\n",
    "    akma_gerilmesi = None\n",
    "if levha_ilk_yaricap is not None and levha_ilk_genislik is not None and levha_son_genislik is not None:\n",
    "    levha_son_yaricap = round((math.pi * (levha_ilk_yaricap ** 2) * levha_ilk_genislik / (math.pi * levha_son_genislik)) ** 0.5, 2)\n",
    "    yuzey_alani = round(math.pi * (levha_son_yaricap ** 2), 2)\n",
    "else:\n",
    "    levha_son_yaricap = None\n",
    "    yuzey_alani = None\n",
    "if surtunme == \"var\":\n",
    "    if akma_gerilmesi is not None and levha_son_yaricap is not None and levha_son_genislik is not None:\n",
    "        surtunme_katsayisi = parse_input(input(\"Sürtünme katsayısını girin (boş bırakmak için 'boş' yazın): \"))\n",
    "        gerilme = round(akma_gerilmesi * (1 + (2 * surtunme_katsayisi * levha_son_yaricap) / (3 * levha_son_genislik)), 2)\n",
    "        dovme_kuvveti = round(gerilme * yuzey_alani, 2) if yuzey_alani is not None else None\n",
    "    else:\n",
    "        dovme_kuvveti = None\n",
    "        gerilme = None\n",
    "else:\n",
    "    gerilme = None\n",
    "    dovme_kuvveti = round(akma_gerilmesi * yuzey_alani, 2) if akma_gerilmesi is not None and yuzey_alani is not None else None\n",
    "if deformasyon_gerilmesi is not None:\n",
    "    print(f\"\\nDeformasyon Gerilmesi: {deformasyon_gerilmesi}\")\n",
    "if akma_gerilmesi is not None:\n",
    "    print(f\"Akma Gerilmesi: {akma_gerilmesi}\")\n",
    "if gerilme is not None:\n",
    "    print(f\"Gerilme: {gerilme}\")\n",
    "if dovme_kuvveti is not None:\n",
    "    print(f\"Dövme Kuvveti: {dovme_kuvveti}\")\n",
    "if levha_son_yaricap is not None:\n",
    "    print(f\"Levhanın son yarı çapı: {levha_son_yaricap}\")\n",
    "if yuzey_alani is not None:\n",
    "    print(f\"Yüzey Alanı: {yuzey_alani}\")\n"
   ]
  }
 ],
 "metadata": {
  "kernelspec": {
   "display_name": "Python 3",
   "language": "python",
   "name": "python3"
  },
  "language_info": {
   "codemirror_mode": {
    "name": "ipython",
    "version": 3
   },
   "file_extension": ".py",
   "mimetype": "text/x-python",
   "name": "python",
   "nbconvert_exporter": "python",
   "pygments_lexer": "ipython3",
   "version": "3.8.10"
  },
  "orig_nbformat": 4
 },
 "nbformat": 4,
 "nbformat_minor": 2
}
